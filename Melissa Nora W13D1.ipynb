{
 "cells": [
  {
   "cell_type": "code",
   "execution_count": null,
   "id": "b11121f4-9cfd-4cd5-a191-53cbe4f378a8",
   "metadata": {},
   "outputs": [],
   "source": [
    "''' Esercizio Individuiamo tre task di qualsiasi tipo (fare la spesa, studiare un concetto, \n",
    "riempire il serbatoio dell'auto, acquistare uno snack da un distributore automatico, o qualunque altra cosa);\n",
    "Scriviamo un algoritmo (in forma testuale), cioè i passi necessari, per ognuno dei task selezionati.\n",
    "\n",
    "1) Fare La Doccia\n",
    "- aprire acqua calda \n",
    "- spogliarsi\n",
    "- entrare nella doccia \n",
    "- Passare lo shampoo\n",
    "- chiudere acqua\n",
    "- passare balsamo\n",
    "- passare bagnoschiuma\n",
    "- riaprire acqua \n",
    "- risciacquare\n",
    "- chiudere acqua\n",
    "- mettere accappatorio e asciugamano sui capelli\n",
    "- pulire il vetro della doccia\n",
    "- asciugare corpo\n",
    "- mettere crema\n",
    "- vestirsi\n",
    "- asciugare capelli \n",
    "\n",
    "2) Fare la spesa\n",
    "- prepararsi\n",
    "- fare lista della spesa\n",
    "- prendere buste riutilizzabili\n",
    "- uscire di casa e andare al supermercato\n",
    "- mettere il necessario nel carrello\n",
    "- dirigersi alla cassa\n",
    "- pagare\n",
    "- imbustare\n",
    "- tornare a casa \n",
    "- sistemare la spesa\n",
    "\n",
    "3) Andare in Brasile come turista \n",
    "- fare passaporto\n",
    "- comprare biglietto aereo\n",
    "- prenotare hotel \n",
    "- preparare valigia\n",
    "- andare in aereoporto\n",
    "- presentare documenti \n",
    "- fare controlli in aereporto\n",
    "- andare al gate\n",
    "- prendere l'aereo se necessario fare cambio aereo\n",
    "- scendere a destinazione\n",
    "- ritirare valigia\n",
    "- uscire dall'aereoporto\n",
    "- divertirsi e godersi il viaggio'''"
   ]
  },
  {
   "cell_type": "code",
   "execution_count": 4,
   "id": "2701b6d5-2141-4ced-9138-a14dd5527327",
   "metadata": {
    "tags": []
   },
   "outputs": [],
   "source": [
    "'''Esercizio Abbiamo 25 studenti; memorizzare questo dato in una variabile. \n",
    "Utilizzeremo: • l'operatore di assegnazione ='''\n",
    "\n",
    "studenti = 25 "
   ]
  },
  {
   "cell_type": "code",
   "execution_count": 5,
   "id": "f7646fcd-1dec-4532-8187-d444d641382a",
   "metadata": {
    "tags": []
   },
   "outputs": [
    {
     "name": "stdout",
     "output_type": "stream",
     "text": [
      "25\n"
     ]
    }
   ],
   "source": [
    "'''Esercizio Abbiamo 25 studenti;\n",
    "memorizzare questo dato in una variabile e stamparla a video.\n",
    "Utilizzeremo: • l'operatore di assegnazione = • la funzione print()'''\n",
    "print (studenti) "
   ]
  },
  {
   "cell_type": "code",
   "execution_count": 6,
   "id": "01e36f52-a145-49aa-b9b6-2424c5752ea4",
   "metadata": {
    "tags": []
   },
   "outputs": [],
   "source": [
    "''' Esercizio Abbiamo 25 studenti; memorizzare questo dato in una variabile. \n",
    "Arrivano altri 3 studenti; memorizzare questo dato in un'altra variabile.'''\n",
    "studenti_2 = 3"
   ]
  },
  {
   "cell_type": "code",
   "execution_count": 9,
   "id": "7d1881f0-5541-4bef-9dc2-bdac83bfdc91",
   "metadata": {
    "tags": []
   },
   "outputs": [
    {
     "name": "stdout",
     "output_type": "stream",
     "text": [
      "28\n"
     ]
    }
   ],
   "source": [
    "'''Esercizio Abbiamo 25 studenti; memorizzare questo dato in una variabile. \n",
    "Arrivano altri 3 studenti; memorizzare questo dato in un'altra variabile. \n",
    "Creare un'altra variabile ancora che conterrà la somma delle prime due, poi stamparla a video. \n",
    "Utilizzeremo: • la funzione print() per stampare a video'''\n",
    "Tot_studenti = studenti + studenti_2\n",
    "print (Tot_studenti)"
   ]
  },
  {
   "cell_type": "code",
   "execution_count": 12,
   "id": "1b20f30c-b46f-4842-8cc5-c8ddaeca820a",
   "metadata": {
    "tags": []
   },
   "outputs": [],
   "source": [
    "'''Esercizio Creare una variabile che contiene la stringa \"Epicode\", quindi stamparla a video.'''\n",
    "Epicode = 'Epicode'\n",
    "print (Epicode)"
   ]
  },
  {
   "cell_type": "code",
   "execution_count": null,
   "id": "4fce68d5-d173-4683-a8d1-ff2eb43822de",
   "metadata": {},
   "outputs": [],
   "source": []
  },
  {
   "cell_type": "code",
   "execution_count": null,
   "id": "5f12fe5a-e45c-48f4-bf66-046a30d39a5c",
   "metadata": {},
   "outputs": [],
   "source": []
  }
 ],
 "metadata": {
  "kernelspec": {
   "display_name": "Python 3 (ipykernel)",
   "language": "python",
   "name": "python3"
  },
  "language_info": {
   "codemirror_mode": {
    "name": "ipython",
    "version": 3
   },
   "file_extension": ".py",
   "mimetype": "text/x-python",
   "name": "python",
   "nbconvert_exporter": "python",
   "pygments_lexer": "ipython3",
   "version": "3.11.5"
  }
 },
 "nbformat": 4,
 "nbformat_minor": 5
}
